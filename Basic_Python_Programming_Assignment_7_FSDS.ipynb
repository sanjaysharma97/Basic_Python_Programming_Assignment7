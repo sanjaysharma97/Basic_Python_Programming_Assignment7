{
 "cells": [
  {
   "cell_type": "markdown",
   "id": "bb67f810",
   "metadata": {},
   "source": [
    "# 1. Write a Python Program to find sum of array?\n",
    "\n",
    "ANSWER-"
   ]
  },
  {
   "cell_type": "code",
   "execution_count": 1,
   "id": "6b93dbc0",
   "metadata": {},
   "outputs": [
    {
     "name": "stdout",
     "output_type": "stream",
     "text": [
      "enter a number of elements you want into the array: 5\n",
      "-10\n",
      "5\n",
      "6\n",
      "9\n",
      "10\n",
      "[-10, 5, 6, 9, 10]\n",
      "the sum of given array is-> 20\n"
     ]
    }
   ],
   "source": [
    "a=[]\n",
    "def sum_of_array(n):\n",
    "    for i in range(0,n):\n",
    "        l=int(input())\n",
    "        \n",
    "        a.append(l)\n",
    "    print(a)\n",
    "num=int(input(\"enter a number of elements you want into the array: \"))\n",
    "sum_of_array(num)\n",
    "print(\"the sum of given array is->\", sum(a))"
   ]
  },
  {
   "cell_type": "markdown",
   "id": "50fb693f",
   "metadata": {},
   "source": [
    "# 2. Write a Python Program to find largest element in an array?\n",
    "\n",
    "ANSWER-"
   ]
  },
  {
   "cell_type": "code",
   "execution_count": 19,
   "id": "8d444a72",
   "metadata": {},
   "outputs": [
    {
     "name": "stdout",
     "output_type": "stream",
     "text": [
      "enter elements you want inside the array: 8\n",
      "10\n",
      "15\n",
      "17\n",
      "20\n",
      "19\n",
      "23\n",
      "2\n",
      "9\n",
      "[10, 15, 17, 20, 19, 23, 2, 9]\n",
      "The largest element in the given array [10, 15, 17, 20, 19, 23, 2, 9] is 23\n"
     ]
    }
   ],
   "source": [
    "a=[]\n",
    "def largest_element_in_array(n):\n",
    "    for i in range(0,n):\n",
    "        l=int(input())\n",
    "        a.append(l)\n",
    "    print(a)\n",
    "\n",
    "num=int(input(\"enter elements you want inside the array: \"))\n",
    "S=largest_element_in_array(num)\n",
    "print(f\"The largest element in the given array {a} is {sorted(a,reverse=True)[0]}\")\n"
   ]
  },
  {
   "cell_type": "markdown",
   "id": "1d5c5c82",
   "metadata": {},
   "source": [
    "# 3. Write a Python Program for array rotation?\n",
    "\n",
    "ANSWER-"
   ]
  },
  {
   "cell_type": "code",
   "execution_count": 3,
   "id": "10cb584d",
   "metadata": {},
   "outputs": [
    {
     "name": "stdout",
     "output_type": "stream",
     "text": [
      "enter elements you wants to see inside the array: 6\n",
      "10\n",
      "20\n",
      "30\n",
      "40\n",
      "50\n",
      "60\n",
      "[10, 20, 30, 40, 50, 60]\n",
      "the array rotation of given array [10, 20, 30, 40, 50, 60] is [60, 50, 40, 30, 20, 10]\n"
     ]
    }
   ],
   "source": [
    "a=[]\n",
    "def array_rotation(n):\n",
    "    for i in range(0,n):\n",
    "        l=int(input())\n",
    "        a.append(l)\n",
    "    print(a)\n",
    "    \n",
    "num=int(input(\"enter elements you wants to see inside the array: \"))\n",
    "S=array_rotation(num)\n",
    "print(f\"the array rotation of given array {a} is {a[::-1]}\")"
   ]
  },
  {
   "cell_type": "markdown",
   "id": "7dee2a60",
   "metadata": {},
   "source": [
    "# 4. Write a Python Program to Split the array and add the first part to the end?\n",
    "\n",
    "ANSWER-"
   ]
  },
  {
   "cell_type": "code",
   "execution_count": 4,
   "id": "8568d5f8",
   "metadata": {},
   "outputs": [
    {
     "name": "stdout",
     "output_type": "stream",
     "text": [
      "enter elements you wants to see inside the array: 6\n",
      "3\n",
      "9\n",
      "3\n",
      "5\n",
      "6\n",
      "8\n",
      "[3, 9, 3, 5, 6, 8]\n",
      "the split array and add the first part and end [3, 9, 3, 5, 6, 8] is 11\n"
     ]
    }
   ],
   "source": [
    "a=[]\n",
    "def split_array(n):\n",
    "    for i in range(0,n):\n",
    "        l=int(input())\n",
    "        a.append(l)\n",
    "    print(a)\n",
    "    \n",
    "num=int(input(\"enter elements you wants to see inside the array: \"))\n",
    "S=split_array(num)\n",
    "print(f\"the split array and add the first part and end {a} is {a[0]+a[-1]}\")\n",
    "        \n",
    "        "
   ]
  },
  {
   "cell_type": "markdown",
   "id": "f1a4af6b",
   "metadata": {},
   "source": [
    "# 5. Write a Python Program to check if given array is Monotonic?\n",
    "\n",
    "ANSWER-"
   ]
  },
  {
   "cell_type": "code",
   "execution_count": 37,
   "id": "0dd3749c",
   "metadata": {},
   "outputs": [
    {
     "name": "stdout",
     "output_type": "stream",
     "text": [
      "enter an elements that you want to display in an array: 8\n",
      "9\n",
      "8\n",
      "8\n",
      "7\n",
      "6\n",
      "5\n",
      "4\n",
      "3\n",
      "[9, 8, 8, 7, 6, 5, 4, 3]\n",
      "the given array is monotonic\n"
     ]
    }
   ],
   "source": [
    "a=[]\n",
    "def array_monotonic(n):\n",
    "    for i in range(0,n):\n",
    "        l=int(input())\n",
    "        a.append(l)\n",
    "    print(a)\n",
    "    if(all(a[i]<=a[i+1] for i in range(len(a)-1)) or all(a[i]>=a[i+1] for i in range(len(a)-1))):\n",
    "        print(\"the given array is monotonic\")\n",
    "    else:\n",
    "        print(\"the given array is notmonotonic\")\n",
    "num=int(input(\"enter an elements that you want to display in an array: \"))\n",
    "array_monotonic(num)"
   ]
  },
  {
   "cell_type": "markdown",
   "id": "387c05e1",
   "metadata": {},
   "source": []
  }
 ],
 "metadata": {
  "kernelspec": {
   "display_name": "Python 3 (ipykernel)",
   "language": "python",
   "name": "python3"
  },
  "language_info": {
   "codemirror_mode": {
    "name": "ipython",
    "version": 3
   },
   "file_extension": ".py",
   "mimetype": "text/x-python",
   "name": "python",
   "nbconvert_exporter": "python",
   "pygments_lexer": "ipython3",
   "version": "3.9.12"
  }
 },
 "nbformat": 4,
 "nbformat_minor": 5
}
